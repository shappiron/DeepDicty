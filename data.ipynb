{
 "cells": [
  {
   "cell_type": "code",
   "execution_count": 13,
   "metadata": {
    "ExecuteTime": {
     "end_time": "2021-06-09T11:05:15.735213Z",
     "start_time": "2021-06-09T11:05:15.730288Z"
    }
   },
   "outputs": [],
   "source": [
    "from glob import glob\n",
    "import numpy as np\n",
    "import cooler\n",
    "from cooltools.sample import sample_cooler\n",
    "from tqdm.notebook import tqdm\n",
    "from os.path import basename\n",
    "\n",
    "from matplotlib import pyplot as plt"
   ]
  },
  {
   "cell_type": "code",
   "execution_count": 19,
   "metadata": {
    "ExecuteTime": {
     "end_time": "2021-06-09T11:10:08.067902Z",
     "start_time": "2021-06-09T11:10:08.062178Z"
    }
   },
   "outputs": [
    {
     "data": {
      "text/plain": [
       "(['./data/0A_2000_down.cool',\n",
       "  './data/0B_2000_down.cool',\n",
       "  './data/2A_2000_down.cool',\n",
       "  './data/2B_2000_down.cool',\n",
       "  './data/5A_2000_down.cool',\n",
       "  './data/5B_2000_down.cool',\n",
       "  './data/8A_2000_down.cool',\n",
       "  './data/8B_2000_down.cool'],\n",
       " ['0A', '0B', '2A', '2B', '5A', '5B', '8A', '8B'])"
      ]
     },
     "execution_count": 19,
     "metadata": {},
     "output_type": "execute_result"
    }
   ],
   "source": [
    "#load data\n",
    "PATHS = sorted(glob('./data/*.cool'))\n",
    "NAMES = [basename(p).split('_')[0] for p in PATHS]\n",
    "PATHS, NAMES"
   ]
  },
  {
   "cell_type": "markdown",
   "metadata": {},
   "source": [
    "# Load Hi-C"
   ]
  },
  {
   "cell_type": "code",
   "execution_count": 20,
   "metadata": {
    "ExecuteTime": {
     "end_time": "2021-06-09T11:10:28.804773Z",
     "start_time": "2021-06-09T11:10:28.802340Z"
    }
   },
   "outputs": [],
   "source": [
    "#downsampling procedure\n",
    "# RESOLUTION = 2000\n",
    "\n",
    "# Clrs = [cooler.Cooler(p + \"::/resolutions/%d\" % RESOLUTION) for p in PATHS]\n",
    "# MIN_SUM = min([c.info['sum'] for c in Clrs])\n",
    "# for n, c in zip(NAMES, Clrs):\n",
    "#     sample_cooler(c, './data/%s_%s_down.cool' % (n, RESOLUTION), \n",
    "#                   count=MIN_SUM//1000*1000)"
   ]
  },
  {
   "cell_type": "code",
   "execution_count": 21,
   "metadata": {
    "ExecuteTime": {
     "end_time": "2021-06-09T11:10:39.881571Z",
     "start_time": "2021-06-09T11:10:39.828464Z"
    }
   },
   "outputs": [],
   "source": [
    "Clrs = [cooler.Cooler(p) for p in PATHS]"
   ]
  },
  {
   "cell_type": "code",
   "execution_count": 22,
   "metadata": {
    "ExecuteTime": {
     "end_time": "2021-06-09T11:10:42.131359Z",
     "start_time": "2021-06-09T11:10:41.929323Z"
    }
   },
   "outputs": [
    {
     "data": {
      "text/plain": [
       "<BarContainer object of 8 artists>"
      ]
     },
     "execution_count": 22,
     "metadata": {},
     "output_type": "execute_result"
    },
    {
     "data": {
      "image/png": "[encoded data removed]",
      "text/plain": [
       "<Figure size 432x288 with 1 Axes>"
      ]
     },
     "metadata": {
      "needs_background": "light"
     },
     "output_type": "display_data"
    }
   ],
   "source": [
    "plt.bar(NAMES, [c.info['sum'] for c in Clrs])"
   ]
  },
  {
   "cell_type": "markdown",
   "metadata": {},
   "source": [
    "## Preprocessing Hi-C"
   ]
  },
  {
   "cell_type": "code",
   "execution_count": 116,
   "metadata": {
    "ExecuteTime": {
     "end_time": "2021-06-09T11:50:56.352693Z",
     "start_time": "2021-06-09T11:50:56.326618Z"
    },
    "code_folding": [
     21,
     73,
     76,
     92,
     110
    ]
   },
   "outputs": [],
   "source": [
    "import numpy as np\n",
    "from numba import njit\n",
    "from matplotlib import pyplot as plt\n",
    "import seaborn as sns\n",
    "from tqdm.notebook import tqdm\n",
    "import pandas as pd\n",
    "import scipy\n",
    "import scipy.signal\n",
    "import cooler\n",
    "import bioframe\n",
    "import cooltools\n",
    "from astropy.convolution import Gaussian2DKernel\n",
    "from cooltools.lib.numutils import adaptive_coarsegrain, interp_nan\n",
    "import collections\n",
    "import pyranges as pr\n",
    "import pickle\n",
    "\n",
    "import os\n",
    "import sys\n",
    "\n",
    "### ----- FUNCTIONS -------\n",
    "def seq_df(df, fasta_records, mapped_only=True, return_input=True):\n",
    "    \"\"\"\n",
    "    Parameters\n",
    "    ----------\n",
    "    df : pandas.DataFrame\n",
    "        A sets of genomic intervals stored as a DataFrame.\n",
    "    fasta_records : OrderedDict\n",
    "        Dictionary of chromosome names to sequence records.\n",
    "        Created by: bioframe.load_fasta('/path/to/fasta.fa')\n",
    "    mapped_only: bool\n",
    "        if True, ignore 'N' in the fasta_records for calculation.\n",
    "        if True and there are no mapped base-pairs in an interval, return np.nan.\n",
    "    return_input: bool\n",
    "        if False, only return Series named frac_mapped.\n",
    "    Returns\n",
    "    -------\n",
    "    df_mapped : pd.DataFrame\n",
    "        Original dataframe with new column 'frac_mapped' appended.\n",
    "    \"\"\"\n",
    "    if not set(df[\"chrom\"].values).issubset(set(fasta_records.keys())):\n",
    "        return ValueError(\n",
    "            \"chrom from intervals not in fasta_records: double-check genome agreement\"\n",
    "        )\n",
    "    if not type(fasta_records) is collections.OrderedDict:\n",
    "        return ValueError(\n",
    "            \"fasta records must be provided as an OrderedDict, can be created by bioframe.load_fasta\"\n",
    "        )\n",
    "    \n",
    "    def _each(chrom_group):\n",
    "        chrom = chrom_group.name\n",
    "        seq = fasta_records[chrom]\n",
    "        seq = str(seq[:])\n",
    "        gc = []\n",
    "        for _, bin in chrom_group.iterrows():\n",
    "            s = seq[bin.start : bin.end]\n",
    "            n = 0\n",
    "            if mapped_only:\n",
    "                n = s.count(\"N\")\n",
    "                n += s.count(\"n\")\n",
    "            gc.append(s if n == 0 else 'nan')\n",
    "        return gc\n",
    "\n",
    "    out = df.groupby(\"chrom\", sort=False).apply(_each)\n",
    "\n",
    "    if return_input:\n",
    "        return pd.concat(\n",
    "            [df, pd.Series(data=np.concatenate(out), index=df.index).rename(\"SEQ\")],\n",
    "            axis=\"columns\",\n",
    "        )\n",
    "    else:\n",
    "        return pd.Series(data=np.concatenate(out), index=df.index).rename(\"SEQ\")\n",
    "    \n",
    "def dnorm(x, mu, sd):\n",
    "    return 1 / (np.sqrt(2 * np.pi) * sd) * np.e ** (-np.power((x - mu) / sd, 2) / 2)\n",
    "\n",
    "def gaussian_kernel(size, sigma=1, verbose=False):\n",
    " \n",
    "    kernel_1D = np.linspace(-(size // 2), size // 2, size)\n",
    "    for i in range(size):\n",
    "        kernel_1D[i] = dnorm(kernel_1D[i], 0, sigma)\n",
    "    kernel_2D = np.outer(kernel_1D.T, kernel_1D.T)\n",
    " \n",
    "    kernel_2D *= 1.0 / kernel_2D.max()\n",
    " \n",
    "    if verbose:\n",
    "        plt.imshow(kernel_2D, interpolation='none',cmap='gray')\n",
    "        plt.title(\"Image\")\n",
    "        plt.show()\n",
    " \n",
    "    return kernel_2D / kernel_2D.sum() #normalizer kernel to sum to 1\n",
    "\n",
    "def make_expected_vals(cooler, Ndiags, chroms):\n",
    "    vals = {}\n",
    "    for chrom in tqdm(chroms): #remove the last chrY\n",
    "        mat = cooler.matrix(balance=True, sparse=True).fetch(chrom)\n",
    "        diags = scipy.sparse.triu(scipy.sparse.tril(mat, Ndiags), 0, 'dia')\n",
    "        for i in range(Ndiags):\n",
    "            if i not in vals:\n",
    "                vals[i] = []\n",
    "            arr = diags.data[i][diags.data[i]==diags.data[i]]\n",
    "            vals[i].append([np.mean(arr), np.std(arr), arr.shape[0]]) #Std in case we want to do z-score\n",
    "    avals = []\n",
    "    for d in vals:\n",
    "        l = np.sum([i[2] for i in vals[d]])\n",
    "        m = np.array([i[0]*i[2] for i in vals[d]]).sum()/l\n",
    "        s = np.array([i[1]*i[2] for i in vals[d]]).sum()/l\n",
    "        avals.append((m ,s))\n",
    "    return np.array(avals)\n",
    "\n",
    "def hic_preprocess(A, E, mask, G_kernel=None, clip=[-2, 2]):\n",
    "    \"\"\"\n",
    "    G_kernel:: 2d array: \n",
    "        200 pixels: (size=3, std=1.); \n",
    "        100 pixels: (size=3, std=0.6)\n",
    "    \"\"\"\n",
    "    #---mask empty bins---\n",
    "    A[mask, :] = np.nan\n",
    "    A[:, mask] = np.nan\n",
    "    #---OBS/EXP---\n",
    "    E = scipy.linalg.toeplitz(E) #toeplitz expected matrix\n",
    "    A_min = np.nanmin(A.ravel()[np.nonzero(A.ravel())])\n",
    "    A_ = np.where(A==0., E, A) #np.where(A==0., A_min / 2, A) #fill zeros with (minimal nonzero / 2)\n",
    "    #np.fill_diagonal(A_, np.nanmean(np.diag(A_, 0))) #fill diagonal of A with average main diagonal value\n",
    "    R = np.array(np.log(A_ / E))\n",
    "    R = cooltools.lib.numutils.interp_nan(R, method='linear') #linear interpolation\n",
    "    \n",
    "    if G_kernel is not None:\n",
    "        #---SMOOTHING---\n",
    "        R_ = scipy.signal.convolve2d(R, G_kernel, mode='same', boundary='fill')\n",
    "        R_ = np.clip(R_, *clip)\n",
    "        return R_\n",
    "    else:\n",
    "        R_ = np.clip(R, *clip)\n",
    "        return R_\n",
    "    "
   ]
  },
  {
   "cell_type": "code",
   "execution_count": 117,
   "metadata": {
    "ExecuteTime": {
     "end_time": "2021-06-09T11:50:59.920565Z",
     "start_time": "2021-06-09T11:50:59.916920Z"
    }
   },
   "outputs": [],
   "source": [
    "RESOLUTION_BINSIZE = 2000\n",
    "N_PIXELS = 50\n",
    "CHROMS = ['chr1', 'chr2', 'chr3', 'chr4', 'chr5', 'chr6']"
   ]
  },
  {
   "cell_type": "code",
   "execution_count": 85,
   "metadata": {
    "ExecuteTime": {
     "end_time": "2021-06-09T11:38:31.338187Z",
     "start_time": "2021-06-09T11:38:21.866124Z"
    },
    "collapsed": true
   },
   "outputs": [
    {
     "data": {
      "application/vnd.jupyter.widget-view+json": {
       "model_id": "5f1aeec6b575469db410c5adc33f1c88",
       "version_major": 2,
       "version_minor": 0
      },
      "text/plain": [
       "HBox(children=(HTML(value=''), FloatProgress(value=0.0, max=6.0), HTML(value='')))"
      ]
     },
     "metadata": {},
     "output_type": "display_data"
    },
    {
     "name": "stdout",
     "output_type": "stream",
     "text": [
      "\n"
     ]
    },
    {
     "data": {
      "application/vnd.jupyter.widget-view+json": {
       "model_id": "60311cca3c8d43e5a14ebe72781a896c",
       "version_major": 2,
       "version_minor": 0
      },
      "text/plain": [
       "HBox(children=(HTML(value=''), FloatProgress(value=0.0, max=6.0), HTML(value='')))"
      ]
     },
     "metadata": {},
     "output_type": "display_data"
    },
    {
     "name": "stdout",
     "output_type": "stream",
     "text": [
      "\n"
     ]
    },
    {
     "data": {
      "application/vnd.jupyter.widget-view+json": {
       "model_id": "c6174543c8ff435aa6a0e56aa37f646a",
       "version_major": 2,
       "version_minor": 0
      },
      "text/plain": [
       "HBox(children=(HTML(value=''), FloatProgress(value=0.0, max=6.0), HTML(value='')))"
      ]
     },
     "metadata": {},
     "output_type": "display_data"
    },
    {
     "name": "stdout",
     "output_type": "stream",
     "text": [
      "\n"
     ]
    },
    {
     "data": {
      "application/vnd.jupyter.widget-view+json": {
       "model_id": "9823338df1f644e29603adc7c2016456",
       "version_major": 2,
       "version_minor": 0
      },
      "text/plain": [
       "HBox(children=(HTML(value=''), FloatProgress(value=0.0, max=6.0), HTML(value='')))"
      ]
     },
     "metadata": {},
     "output_type": "display_data"
    },
    {
     "name": "stdout",
     "output_type": "stream",
     "text": [
      "\n"
     ]
    },
    {
     "data": {
      "application/vnd.jupyter.widget-view+json": {
       "model_id": "e3b84b23c9c24f1f982fe53eb7885b4b",
       "version_major": 2,
       "version_minor": 0
      },
      "text/plain": [
       "HBox(children=(HTML(value=''), FloatProgress(value=0.0, max=6.0), HTML(value='')))"
      ]
     },
     "metadata": {},
     "output_type": "display_data"
    },
    {
     "name": "stdout",
     "output_type": "stream",
     "text": [
      "\n"
     ]
    },
    {
     "data": {
      "application/vnd.jupyter.widget-view+json": {
       "model_id": "d7c5d19aeba94821901bb94b04e1616e",
       "version_major": 2,
       "version_minor": 0
      },
      "text/plain": [
       "HBox(children=(HTML(value=''), FloatProgress(value=0.0, max=6.0), HTML(value='')))"
      ]
     },
     "metadata": {},
     "output_type": "display_data"
    },
    {
     "name": "stdout",
     "output_type": "stream",
     "text": [
      "\n"
     ]
    },
    {
     "data": {
      "application/vnd.jupyter.widget-view+json": {
       "model_id": "461ca9af47b540cbbc810352342b1f1c",
       "version_major": 2,
       "version_minor": 0
      },
      "text/plain": [
       "HBox(children=(HTML(value=''), FloatProgress(value=0.0, max=6.0), HTML(value='')))"
      ]
     },
     "metadata": {},
     "output_type": "display_data"
    },
    {
     "name": "stdout",
     "output_type": "stream",
     "text": [
      "\n"
     ]
    },
    {
     "data": {
      "application/vnd.jupyter.widget-view+json": {
       "model_id": "62a58eb3463e46c7a7be63ee77efa970",
       "version_major": 2,
       "version_minor": 0
      },
      "text/plain": [
       "HBox(children=(HTML(value=''), FloatProgress(value=0.0, max=6.0), HTML(value='')))"
      ]
     },
     "metadata": {},
     "output_type": "display_data"
    },
    {
     "name": "stdout",
     "output_type": "stream",
     "text": [
      "\n"
     ]
    }
   ],
   "source": [
    "EXP = [make_expected_vals(c, N_PIXELS, CHROMS)[:, 0] for c in Clrs]"
   ]
  },
  {
   "cell_type": "code",
   "execution_count": 145,
   "metadata": {
    "ExecuteTime": {
     "end_time": "2021-06-09T12:00:56.631126Z",
     "start_time": "2021-06-09T12:00:56.606690Z"
    }
   },
   "outputs": [],
   "source": [
    "cool_ = Clrs[0]\n",
    "exp = EXP[0]\n",
    "\n",
    "chrom = 'chr1'\n",
    "start = 200_000\n",
    "end = 300_000\n",
    "\n",
    "B = cool_.bins().fetch('%s:%d-%d' % (chrom, start, end))\n",
    "binmask = np.argwhere(np.isnan(np.array(B['weight'])))\n",
    "A = cool_.matrix(balance=True, sparse=True).fetch('%s:%d-%d' % (chrom, start, end)).todense()\n",
    "#non-balanced\n",
    "U = cool_.matrix(balance=False, sparse=True).fetch('%s:%d-%d' % (chrom, start, end)).todense()"
   ]
  },
  {
   "cell_type": "code",
   "execution_count": 146,
   "metadata": {
    "ExecuteTime": {
     "end_time": "2021-06-09T12:00:56.971913Z",
     "start_time": "2021-06-09T12:00:56.965116Z"
    }
   },
   "outputs": [],
   "source": [
    "#coarse grained variant\n",
    "cg = adaptive_coarsegrain(A, U, cutoff=2, max_levels=8)\n",
    "R = hic_preprocess(cg, exp, binmask, G_kernel=Gaussian2DKernel(1.0), clip=[-2.0, 2.0])"
   ]
  },
  {
   "cell_type": "code",
   "execution_count": 147,
   "metadata": {
    "ExecuteTime": {
     "end_time": "2021-06-09T12:00:57.496595Z",
     "start_time": "2021-06-09T12:00:57.323985Z"
    }
   },
   "outputs": [
    {
     "data": {
      "image/png": "[encoded data removed]",
      "text/plain": [
       "<Figure size 576x576 with 2 Axes>"
      ]
     },
     "metadata": {
      "needs_background": "light"
     },
     "output_type": "display_data"
    }
   ],
   "source": [
    "fig, ax = plt.subplots(1, 1, figsize=(8, 8))\n",
    "fig.suptitle('%s:%d-%d' % (chrom, start, end), fontsize=18)\n",
    "M1 = ax.imshow(R, cmap='RdBu_r', interpolation='none',) #vmin=-2.0, vmax=2.0)\n",
    "#M2 = ax[1].imshow(R_low, cmap='RdBu_r', interpolation='none', vmin=-2.0, vmax=2.0)\n",
    "ax.set_title('OE', fontsize=14)\n",
    "#ax[1].set_title('Low resolution', fontsize=14)\n",
    "plt.colorbar(M1, ax=ax, shrink=0.7)\n",
    "#plt.colorbar(M2, ax=ax[1], shrink=0.7)\n",
    "plt.show()"
   ]
  },
  {
   "cell_type": "markdown",
   "metadata": {},
   "source": [
    "## Preprocessing DNA"
   ]
  },
  {
   "cell_type": "code",
   "execution_count": 149,
   "metadata": {
    "ExecuteTime": {
     "end_time": "2021-06-09T12:06:08.359443Z",
     "start_time": "2021-06-09T12:06:08.355428Z"
    }
   },
   "outputs": [
    {
     "data": {
      "text/plain": [
       "name\n",
       "chr1     4923596\n",
       "chr2     8484197\n",
       "chr3     6357299\n",
       "chr4     5450249\n",
       "chr5     5125352\n",
       "chr6     3602379\n",
       "chrM       55564\n",
       "chrR       85150\n",
       "chr2F     161967\n",
       "chr3F      16660\n",
       "chrBF      75732\n",
       "Name: length, dtype: int32"
      ]
     },
     "execution_count": 149,
     "metadata": {},
     "output_type": "execute_result"
    }
   ],
   "source": [
    "Clrs[0].chromsizes"
   ]
  },
  {
   "cell_type": "code",
   "execution_count": null,
   "metadata": {},
   "outputs": [],
   "source": []
  }
 ],
 "metadata": {
  "kernelspec": {
   "display_name": "Python 3",
   "language": "python",
   "name": "python3"
  },
  "language_info": {
   "codemirror_mode": {
    "name": "ipython",
    "version": 3
   },
   "file_extension": ".py",
   "mimetype": "text/x-python",
   "name": "python",
   "nbconvert_exporter": "python",
   "pygments_lexer": "ipython3",
   "version": "3.7.6"
  },
  "toc": {
   "base_numbering": 1,
   "nav_menu": {},
   "number_sections": true,
   "sideBar": true,
   "skip_h1_title": false,
   "title_cell": "Table of Contents",
   "title_sidebar": "Contents",
   "toc_cell": false,
   "toc_position": {},
   "toc_section_display": true,
   "toc_window_display": false
  }
 },
 "nbformat": 4,
 "nbformat_minor": 4
}
